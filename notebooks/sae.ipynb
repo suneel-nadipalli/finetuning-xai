{
 "cells": [
  {
   "cell_type": "code",
   "execution_count": 1,
   "metadata": {},
   "outputs": [
    {
     "name": "stderr",
     "output_type": "stream",
     "text": [
      "[nltk_data] Downloading package punkt to\n",
      "[nltk_data]     C:\\Users\\91939\\AppData\\Roaming\\nltk_data...\n",
      "[nltk_data]   Package punkt is already up-to-date!\n",
      "[nltk_data] Downloading package punkt_tab to\n",
      "[nltk_data]     C:\\Users\\91939\\AppData\\Roaming\\nltk_data...\n",
      "[nltk_data]   Package punkt_tab is already up-to-date!\n",
      "[nltk_data] Downloading package wordnet to\n",
      "[nltk_data]     C:\\Users\\91939\\AppData\\Roaming\\nltk_data...\n",
      "[nltk_data]   Package wordnet is already up-to-date!\n",
      "[nltk_data] Downloading package omw-1.4 to\n",
      "[nltk_data]     C:\\Users\\91939\\AppData\\Roaming\\nltk_data...\n",
      "[nltk_data]   Package omw-1.4 is already up-to-date!\n",
      "[nltk_data] Downloading package punkt to\n",
      "[nltk_data]     C:\\Users\\91939\\AppData\\Roaming\\nltk_data...\n",
      "[nltk_data]   Package punkt is already up-to-date!\n",
      "[nltk_data] Downloading package punkt_tab to\n",
      "[nltk_data]     C:\\Users\\91939\\AppData\\Roaming\\nltk_data...\n",
      "[nltk_data]   Package punkt_tab is already up-to-date!\n",
      "[nltk_data] Downloading package wordnet to\n",
      "[nltk_data]     C:\\Users\\91939\\AppData\\Roaming\\nltk_data...\n",
      "[nltk_data]   Package wordnet is already up-to-date!\n",
      "[nltk_data] Downloading package omw-1.4 to\n",
      "[nltk_data]     C:\\Users\\91939\\AppData\\Roaming\\nltk_data...\n",
      "[nltk_data]   Package omw-1.4 is already up-to-date!\n"
     ]
    }
   ],
   "source": [
    "import sys, gc\n",
    "\n",
    "sys.path.append('..')\n",
    "\n",
    "from scripts.sae.train_sae import *\n",
    "from scripts.sae.infer_sae import *\n",
    "\n",
    "from utils.utils import *\n",
    "from utils.config import *"
   ]
  },
  {
   "cell_type": "code",
   "execution_count": 2,
   "metadata": {},
   "outputs": [],
   "source": [
    "datasets = [\"imdb\", \"spotify\", \"news\"]\n",
    "\n",
    "labels = [2, 5, 5]\n",
    "\n",
    "sel_idx = 0\n",
    "\n",
    "layers = [3, 6, 12]\n",
    "\n",
    "layer_idx = layers[0]\n",
    "\n",
    "dataset_name, num_labels = datasets[sel_idx], labels[sel_idx]\n",
    "\n",
    "model_name = \"bert-base-uncased\""
   ]
  },
  {
   "cell_type": "code",
   "execution_count": 3,
   "metadata": {},
   "outputs": [
    {
     "name": "stderr",
     "output_type": "stream",
     "text": [
      "Some weights of BertForSequenceClassification were not initialized from the model checkpoint at bert-base-uncased and are newly initialized: ['classifier.bias', 'classifier.weight']\n",
      "You should probably TRAIN this model on a down-stream task to be able to use it for predictions and inference.\n"
     ]
    },
    {
     "name": "stdout",
     "output_type": "stream",
     "text": [
      "Loading fine-tuned model...\n",
      "Loading fine-tuned autoencoder...\n",
      "Loading fine-tuned activations...\n"
     ]
    }
   ],
   "source": [
    "ft = True\n",
    "\n",
    "model, tokenizer = load_model_tok(\n",
    "    dataset_name=dataset_name,\n",
    "    model_name=model_name,\n",
    "    num_labels=num_labels,\n",
    "    ft=ft,\n",
    ")\n",
    "\n",
    "autoencoder, activations, labels = load_sae(\n",
    "    dataset_name=dataset_name,\n",
    "    model_name=model_name,\n",
    "    layer_idx=layer_idx,\n",
    "    ft=ft,\n",
    ")"
   ]
  },
  {
   "cell_type": "code",
   "execution_count": 4,
   "metadata": {},
   "outputs": [],
   "source": [
    "features = extract_features(\n",
    "    autoencoder=autoencoder,\n",
    "    activations=activations,\n",
    ")"
   ]
  },
  {
   "cell_type": "code",
   "execution_count": 5,
   "metadata": {},
   "outputs": [
    {
     "data": {
      "text/plain": [
       "tensor([1015,  898,  862], device='cuda:0')"
      ]
     },
     "execution_count": 5,
     "metadata": {},
     "output_type": "execute_result"
    }
   ],
   "source": [
    "top_features_indices, top_features_variances = get_top_features(features, 3)\n",
    "\n",
    "top_features_indices"
   ]
  },
  {
   "cell_type": "code",
   "execution_count": 6,
   "metadata": {},
   "outputs": [],
   "source": [
    "feature_idx = 1015\n",
    "\n",
    "top_examples = get_top_examples(\n",
    "    feature_idx=feature_idx,\n",
    "    features=features,\n",
    "    dataset_name=dataset_name,\n",
    "    layer_idx=layer_idx,\n",
    "    top_k=-1,\n",
    ")"
   ]
  },
  {
   "cell_type": "code",
   "execution_count": 7,
   "metadata": {},
   "outputs": [
    {
     "name": "stderr",
     "output_type": "stream",
     "text": [
      "c:\\Me\\Duke\\Anthropic\\gptune\\notebooks\\..\\scripts\\sae\\infer_sae.py:171: FutureWarning: \n",
      "\n",
      "Passing `palette` without assigning `hue` is deprecated and will be removed in v0.14.0. Assign the `x` variable to `hue` and set `legend=False` for the same effect.\n",
      "\n",
      "  sns.boxplot(data=data, x=\"label\", y=\"activations\", palette=\"Set2\")\n"
     ]
    },
    {
     "data": {
      "image/png": "[encoded data removed]",
      "text/plain": [
       "<Figure size 800x500 with 1 Axes>"
      ]
     },
     "metadata": {},
     "output_type": "display_data"
    },
    {
     "name": "stdout",
     "output_type": "stream",
     "text": [
      "Activation Statistics by Label:\n",
      "      label      mean       std\n",
      "0  negative  1.849788  0.719763\n",
      "1  positive  1.860697  0.720371\n",
      "\n",
      "Top 5 Activating Sentences for Label: positive\n"
     ]
    },
    {
     "data": {
      "text/html": [
       "<div>\n",
       "<style scoped>\n",
       "    .dataframe tbody tr th:only-of-type {\n",
       "        vertical-align: middle;\n",
       "    }\n",
       "\n",
       "    .dataframe tbody tr th {\n",
       "        vertical-align: top;\n",
       "    }\n",
       "\n",
       "    .dataframe thead th {\n",
       "        text-align: right;\n",
       "    }\n",
       "</style>\n",
       "<table border=\"1\" class=\"dataframe\">\n",
       "  <thead>\n",
       "    <tr style=\"text-align: right;\">\n",
       "      <th></th>\n",
       "      <th>activations</th>\n",
       "      <th>text</th>\n",
       "    </tr>\n",
       "  </thead>\n",
       "  <tbody>\n",
       "    <tr>\n",
       "      <th>0</th>\n",
       "      <td>3.855925</td>\n",
       "      <td>Paul Reiser did a spectacular job in writing this movie. Peter Falk gives the performance of his life. It is worthy of an Academy Award. This was one of the most poignant and funny movies of the year. Reiser's wit is fantastic and he is as good as it gets and as he was in his long running TV sitcom \"Mad about You\". Peter Falk did a masterful job as his dad, and Peter who is now 78 years young made us laugh and cry at the same time. The supporting cast was equal to the task especially the gorgeous gorgeous Elizabeth Perkins. It is a must see movie for 2005. We bet that everyone across all ages and religions will love this movie and somehow relate to it in one way or another. We have mothers and fathers and siblings like these in the movie. We have all had the good and bad times together and wish things were the same but different.</td>\n",
       "    </tr>\n",
       "    <tr>\n",
       "      <th>1</th>\n",
       "      <td>3.730934</td>\n",
       "      <td>I have watched this episode more often than any other TFTC episode, it is that enjoyable. And it is quite scary, but all in good, ghoulish fun. A woman kills her 2nd husband but runs into a problem when an escaped maniac in a ragged Santa Claus outfit decides to pay her and her little girl a visit at that very moment. Mary Traynor, who I seem to remember from SNL or some other TV comedy skit show, is the evil wife, and Larry Drake plays the lunatic in the dingy Santa outfit. I had forgotten Santa was played by Drake over the years. His Santa is an unstoppable force and quite frightening at times. You can probably guess how Santa finally gets into the house. The episode is played for laughs, but it also can be pretty intense at times.</td>\n",
       "    </tr>\n",
       "    <tr>\n",
       "      <th>3</th>\n",
       "      <td>3.634600</td>\n",
       "      <td>&lt;br /&gt;&lt;br /&gt;Robot jox is a great little film ok some of the sets are bad and the acting is not that great but the special effects are very good for a film of this size and age. You have to remember that this film is over 10 years old now and was made very cheaply in the 1st place so you cant moan to much about the bad parts. So just sit back and watch a cool film with great big robots in it.</td>\n",
       "    </tr>\n",
       "    <tr>\n",
       "      <th>4</th>\n",
       "      <td>3.634274</td>\n",
       "      <td>I was a little afraid when I went to the cinema to see this movie. Indeed, it is always tough to make a movie from a comics and the first episode of the adventures of the French two greatest heroes was good but not fantastic. Finally, it is very funny from the beginning to the end with unexpected gags, some cartoon scenes, no timeouts, great FX, a great cast, great landscapes, great everything !!!&lt;br /&gt;&lt;br /&gt;However, I wonder how they will manage to translate all the French names in English or German, because it is certainly funny in French but how will it be in another language ???</td>\n",
       "    </tr>\n",
       "    <tr>\n",
       "      <th>5</th>\n",
       "      <td>3.625016</td>\n",
       "      <td>This movie turned out to be pretty much what I expected. Of course it's sappy, of course it's predictable. We all know the fairytale. But knowing that when you go to watch it, it's enjoyable enough to watch. It was funny and sweet. I did find it annoying that they showed geeks as either kids who didn't wash there hair or kids who loved math and joined clubs about math and wore T-shirts about math. I was an outcast in high school and I didn't do these things. It goes much deeper than that. Having to do with many things, some of that being how much money your family has, how much you are willing to hide your uniqueness and how mean you are willing to be to other kids. Anyway, I won't get into it. I don't agree with other opinions that Drew isn't convincing as a geek. With braces, no make-up and unwashed hair, I don't think too many people would be drooling over her. And even when she goes back to high-school and sheds those things. She's still wearing the \"wrong\" clothes, \"wrong\" hair and has the \"wrong\" attitude to be considered cool. And her other \"geek\" friend may be beautiful but it doesn't matter, where I come from, you can still be an outcast and be beautiful. (inside and out)</td>\n",
       "    </tr>\n",
       "  </tbody>\n",
       "</table>\n",
       "</div>"
      ],
      "text/plain": [
       "   activations  \\\n",
       "0     3.855925   \n",
       "1     3.730934   \n",
       "3     3.634600   \n",
       "4     3.634274   \n",
       "5     3.625016   \n",
       "\n",
       "                                                                                                                                                                                                                                                                                                                                                                                                                                                                                                                                                                                                                                                                                                                                                                                                                                                                                                                                                                                                                                                                                                                                                                                                                                              text  \n",
       "0                                                                                                                                                                                                                                                                                                                                                                        Paul Reiser did a spectacular job in writing this movie. Peter Falk gives the performance of his life. It is worthy of an Academy Award. This was one of the most poignant and funny movies of the year. Reiser's wit is fantastic and he is as good as it gets and as he was in his long running TV sitcom \"Mad about You\". Peter Falk did a masterful job as his dad, and Peter who is now 78 years young made us laugh and cry at the same time. The supporting cast was equal to the task especially the gorgeous gorgeous Elizabeth Perkins. It is a must see movie for 2005. We bet that everyone across all ages and religions will love this movie and somehow relate to it in one way or another. We have mothers and fathers and siblings like these in the movie. We have all had the good and bad times together and wish things were the same but different.  \n",
       "1                                                                                                                                                                                                                                                                                                                                                                                                                                                                          I have watched this episode more often than any other TFTC episode, it is that enjoyable. And it is quite scary, but all in good, ghoulish fun. A woman kills her 2nd husband but runs into a problem when an escaped maniac in a ragged Santa Claus outfit decides to pay her and her little girl a visit at that very moment. Mary Traynor, who I seem to remember from SNL or some other TV comedy skit show, is the evil wife, and Larry Drake plays the lunatic in the dingy Santa outfit. I had forgotten Santa was played by Drake over the years. His Santa is an unstoppable force and quite frightening at times. You can probably guess how Santa finally gets into the house. The episode is played for laughs, but it also can be pretty intense at times.  \n",
       "3                                                                                                                                                                                                                                                                                                                                                                                                                                                                                                                                                                                                                                                                                                                                                                                                                                       <br /><br />Robot jox is a great little film ok some of the sets are bad and the acting is not that great but the special effects are very good for a film of this size and age. You have to remember that this film is over 10 years old now and was made very cheaply in the 1st place so you cant moan to much about the bad parts. So just sit back and watch a cool film with great big robots in it.  \n",
       "4                                                                                                                                                                                                                                                                                                                                                                                                                                                                                                                                                                                                                                    I was a little afraid when I went to the cinema to see this movie. Indeed, it is always tough to make a movie from a comics and the first episode of the adventures of the French two greatest heroes was good but not fantastic. Finally, it is very funny from the beginning to the end with unexpected gags, some cartoon scenes, no timeouts, great FX, a great cast, great landscapes, great everything !!!<br /><br />However, I wonder how they will manage to translate all the French names in English or German, because it is certainly funny in French but how will it be in another language ???  \n",
       "5  This movie turned out to be pretty much what I expected. Of course it's sappy, of course it's predictable. We all know the fairytale. But knowing that when you go to watch it, it's enjoyable enough to watch. It was funny and sweet. I did find it annoying that they showed geeks as either kids who didn't wash there hair or kids who loved math and joined clubs about math and wore T-shirts about math. I was an outcast in high school and I didn't do these things. It goes much deeper than that. Having to do with many things, some of that being how much money your family has, how much you are willing to hide your uniqueness and how mean you are willing to be to other kids. Anyway, I won't get into it. I don't agree with other opinions that Drew isn't convincing as a geek. With braces, no make-up and unwashed hair, I don't think too many people would be drooling over her. And even when she goes back to high-school and sheds those things. She's still wearing the \"wrong\" clothes, \"wrong\" hair and has the \"wrong\" attitude to be considered cool. And her other \"geek\" friend may be beautiful but it doesn't matter, where I come from, you can still be an outcast and be beautiful. (inside and out)  "
      ]
     },
     "metadata": {},
     "output_type": "display_data"
    },
    {
     "name": "stdout",
     "output_type": "stream",
     "text": [
      "\n",
      "Top 5 Activating Sentences for Label: negative\n"
     ]
    },
    {
     "data": {
      "text/html": [
       "<div>\n",
       "<style scoped>\n",
       "    .dataframe tbody tr th:only-of-type {\n",
       "        vertical-align: middle;\n",
       "    }\n",
       "\n",
       "    .dataframe tbody tr th {\n",
       "        vertical-align: top;\n",
       "    }\n",
       "\n",
       "    .dataframe thead th {\n",
       "        text-align: right;\n",
       "    }\n",
       "</style>\n",
       "<table border=\"1\" class=\"dataframe\">\n",
       "  <thead>\n",
       "    <tr style=\"text-align: right;\">\n",
       "      <th></th>\n",
       "      <th>activations</th>\n",
       "      <th>text</th>\n",
       "    </tr>\n",
       "  </thead>\n",
       "  <tbody>\n",
       "    <tr>\n",
       "      <th>2</th>\n",
       "      <td>3.682285</td>\n",
       "      <td>This movie wastes virtually every actor's talents in what could best be charitably called a \"potboiler\".&lt;br /&gt;&lt;br /&gt;Despite it's action-packed 'Top Gun' opening it is all downhill from there with plenty of stereotypes and unlikely situations following each other until you try to choke yourself on your popcorn.&lt;br /&gt;&lt;br /&gt;There are so many dead-end story lines in this movie I was guessing at one point it was made by splicing together a discarded TV series.&lt;br /&gt;&lt;br /&gt;Quinn's Mexican drug-lord role is laughable and his 'associates' plucked right out of a 1970's Quinn-Martin cop show. Costner's character is wooden and gives us no reason to believe he actually fell in love with Mendez' wife. Nor are we convincingly led to believe the wife is aching for companionship and will jump the first hot body coming along.&lt;br /&gt;&lt;br /&gt;Definitely a 'B' movie at best and a huge waste of time for everyone involved.</td>\n",
       "    </tr>\n",
       "    <tr>\n",
       "      <th>6</th>\n",
       "      <td>3.606454</td>\n",
       "      <td>I can't remember the worst film I have watched.Total waste of actors and audience time.If you prefer sitting by your TV and think when will be this film over,then this is the right film for you.Maybe this film is recorded to make people believe that Moscow has some mystique past. But I must say I have not expect anything else from Rade Serbedzija,but I have expected more from Vincent Gallo.The film lacks a plot, character,development,denouement.Entire movie is about underground tunnels and how they are mystique.I must be fair there is some camera effect but even that is too poor.Over and over are the same pictures.Total waste of time.</td>\n",
       "    </tr>\n",
       "    <tr>\n",
       "      <th>8</th>\n",
       "      <td>3.581191</td>\n",
       "      <td>Purchased this film for one dollar and figured I could never go wrong, my big mistake was watching it. Enjoyed the acting of Ice-T and the rapping which gave lots of class to this film about Los Angeles and the world of pimps. There is a boxer who kills one of his opponents in a practice ring and who has a career, but because of mental problems from childhood and the killing of this other boxer he retires. He gets hired by a pimp who is looking for a bodyguard to protect the girls that work for him at their trade and make sure they are not beaten up. This boxer falls in love with the boss's girlfriend and all kinds of trouble starts. This is entertaining and it then becomes a big laughing comedy.</td>\n",
       "    </tr>\n",
       "    <tr>\n",
       "      <th>12</th>\n",
       "      <td>3.544043</td>\n",
       "      <td>I went to see \"Passion of Mind\" because I usually get a kick out of the genre of alternate reality romances, i.e. \"Sliding Doors,\" \"Me, Myself, I,\" etc. &lt;br /&gt;&lt;br /&gt;But this was the worst one I've ever seen! I had to force myself to sit through it. I didn't even stay through the credits which is unheard of for me.&lt;br /&gt;&lt;br /&gt;The magical realism was completely missing because Demi Moore was grim and the lovers she was two-timing were guys who usually play villains, though each was kind of sexy and appealing.&lt;br /&gt;&lt;br /&gt;There was actually a psychological explanation provided for the dual lives, with a distasteful frisson of The Elektra Complex; maybe the magic shouldn't be explained for this genre to work.&lt;br /&gt;&lt;br /&gt;(originally written 5/28/2000)</td>\n",
       "    </tr>\n",
       "    <tr>\n",
       "      <th>14</th>\n",
       "      <td>3.536854</td>\n",
       "      <td>This is a weak film with a troubled history of cuts and re-naming. It doesn't work at all. Firstly the dramaturgy is all wrong. It's very slow moving at first and then hastily and unsatisfactorily moves to an end. But there is also (and that may have to do with the cuts) an uneasy moving between genres. It starts off with being a thriller to be taken at face value and then degenerates into a farce rather than satire. the ending may be funny but it's also so blunt that I almost felt it insulted my intelligence (what little there is). So the film tries to be everything but does not really succeed on any level at all. You can also see that in the very unsteady character development.You almost get the impression Connery plays three roles rather than one.</td>\n",
       "    </tr>\n",
       "  </tbody>\n",
       "</table>\n",
       "</div>"
      ],
      "text/plain": [
       "    activations  \\\n",
       "2      3.682285   \n",
       "6      3.606454   \n",
       "8      3.581191   \n",
       "12     3.544043   \n",
       "14     3.536854   \n",
       "\n",
       "                                                                                                                                                                                                                                                                                                                                                                                                                                                                                                                                                                                                                                                                                                                                                                                                                                                                                                                                             text  \n",
       "2   This movie wastes virtually every actor's talents in what could best be charitably called a \"potboiler\".<br /><br />Despite it's action-packed 'Top Gun' opening it is all downhill from there with plenty of stereotypes and unlikely situations following each other until you try to choke yourself on your popcorn.<br /><br />There are so many dead-end story lines in this movie I was guessing at one point it was made by splicing together a discarded TV series.<br /><br />Quinn's Mexican drug-lord role is laughable and his 'associates' plucked right out of a 1970's Quinn-Martin cop show. Costner's character is wooden and gives us no reason to believe he actually fell in love with Mendez' wife. Nor are we convincingly led to believe the wife is aching for companionship and will jump the first hot body coming along.<br /><br />Definitely a 'B' movie at best and a huge waste of time for everyone involved.  \n",
       "6                                                                                                                                                                                                                                                                              I can't remember the worst film I have watched.Total waste of actors and audience time.If you prefer sitting by your TV and think when will be this film over,then this is the right film for you.Maybe this film is recorded to make people believe that Moscow has some mystique past. But I must say I have not expect anything else from Rade Serbedzija,but I have expected more from Vincent Gallo.The film lacks a plot, character,development,denouement.Entire movie is about underground tunnels and how they are mystique.I must be fair there is some camera effect but even that is too poor.Over and over are the same pictures.Total waste of time.  \n",
       "8                                                                                                                                                                                                               Purchased this film for one dollar and figured I could never go wrong, my big mistake was watching it. Enjoyed the acting of Ice-T and the rapping which gave lots of class to this film about Los Angeles and the world of pimps. There is a boxer who kills one of his opponents in a practice ring and who has a career, but because of mental problems from childhood and the killing of this other boxer he retires. He gets hired by a pimp who is looking for a bodyguard to protect the girls that work for him at their trade and make sure they are not beaten up. This boxer falls in love with the boss's girlfriend and all kinds of trouble starts. This is entertaining and it then becomes a big laughing comedy.  \n",
       "12                                                                                                                                                            I went to see \"Passion of Mind\" because I usually get a kick out of the genre of alternate reality romances, i.e. \"Sliding Doors,\" \"Me, Myself, I,\" etc. <br /><br />But this was the worst one I've ever seen! I had to force myself to sit through it. I didn't even stay through the credits which is unheard of for me.<br /><br />The magical realism was completely missing because Demi Moore was grim and the lovers she was two-timing were guys who usually play villains, though each was kind of sexy and appealing.<br /><br />There was actually a psychological explanation provided for the dual lives, with a distasteful frisson of The Elektra Complex; maybe the magic shouldn't be explained for this genre to work.<br /><br />(originally written 5/28/2000)  \n",
       "14                                                                                                                                                       This is a weak film with a troubled history of cuts and re-naming. It doesn't work at all. Firstly the dramaturgy is all wrong. It's very slow moving at first and then hastily and unsatisfactorily moves to an end. But there is also (and that may have to do with the cuts) an uneasy moving between genres. It starts off with being a thriller to be taken at face value and then degenerates into a farce rather than satire. the ending may be funny but it's also so blunt that I almost felt it insulted my intelligence (what little there is). So the film tries to be everything but does not really succeed on any level at all. You can also see that in the very unsteady character development.You almost get the impression Connery plays three roles rather than one.  "
      ]
     },
     "metadata": {},
     "output_type": "display_data"
    },
    {
     "name": "stdout",
     "output_type": "stream",
     "text": [
      "Max activation value: 3.8559250831604004\n",
      "Min activation value: 0.0\n"
     ]
    }
   ],
   "source": [
    "analyze_activations(top_examples, 5)"
   ]
  },
  {
   "cell_type": "code",
   "execution_count": 8,
   "metadata": {},
   "outputs": [
    {
     "data": {
      "image/png": "[encoded data removed]",
      "text/plain": [
       "<Figure size 640x480 with 1 Axes>"
      ]
     },
     "metadata": {},
     "output_type": "display_data"
    }
   ],
   "source": [
    "plot_activation(features, feature_idx=feature_idx)"
   ]
  },
  {
   "cell_type": "code",
   "execution_count": 9,
   "metadata": {},
   "outputs": [
    {
     "data": {
      "text/plain": [
       "tensor([1015,  898,  862], device='cuda:0')"
      ]
     },
     "execution_count": 9,
     "metadata": {},
     "output_type": "execute_result"
    }
   ],
   "source": [
    "top_features_indices"
   ]
  },
  {
   "cell_type": "code",
   "execution_count": 10,
   "metadata": {},
   "outputs": [
    {
     "name": "stderr",
     "output_type": "stream",
     "text": [
      "c:\\Users\\91939\\.conda\\envs\\base_env\\Lib\\site-packages\\transformers\\models\\bert\\modeling_bert.py:440: UserWarning: 1Torch was not compiled with flash attention. (Triggered internally at C:\\cb\\pytorch_1000000000000\\work\\aten\\src\\ATen\\native\\transformers\\cuda\\sdp_utils.cpp:263.)\n",
      "  attn_output = torch.nn.functional.scaled_dot_product_attention(\n"
     ]
    },
    {
     "data": {
      "application/vnd.plotly.v1+json": {
       "config": {
        "plotlyServerURL": "https://plot.ly"
       },
       "data": [
        {
         "alignmentgroup": "True",
         "hovertemplate": "Token=%{x}<br>Activation=%{y}<extra></extra>",
         "legendgroup": "",
         "marker": {
          "color": "#636efa",
          "pattern": {
           "shape": ""
          }
         },
         "name": "",
         "offsetgroup": "",
         "orientation": "v",
         "showlegend": false,
         "textposition": "auto",
         "type": "bar",
         "x": [
          "[CLS]",
          "the",
          "director",
          "of",
          "this",
          "movie",
          "is",
          "terrible",
          ".",
          "[SEP]"
         ],
         "xaxis": "x",
         "y": [
          0.359,
          1.735,
          2.689,
          1.639,
          1.895,
          2.495,
          1.918,
          0.854,
          0.487,
          0.184
         ],
         "yaxis": "y"
        }
       ],
       "layout": {
        "barmode": "relative",
        "legend": {
         "tracegroupgap": 0
        },
        "template": {
         "data": {
          "bar": [
           {
            "error_x": {
             "color": "#2a3f5f"
            },
            "error_y": {
             "color": "#2a3f5f"
            },
            "marker": {
             "line": {
              "color": "#E5ECF6",
              "width": 0.5
             },
             "pattern": {
              "fillmode": "overlay",
              "size": 10,
              "solidity": 0.2
             }
            },
            "type": "bar"
           }
          ],
          "barpolar": [
           {
            "marker": {
             "line": {
              "color": "#E5ECF6",
              "width": 0.5
             },
             "pattern": {
              "fillmode": "overlay",
              "size": 10,
              "solidity": 0.2
             }
            },
            "type": "barpolar"
           }
          ],
          "carpet": [
           {
            "aaxis": {
             "endlinecolor": "#2a3f5f",
             "gridcolor": "white",
             "linecolor": "white",
             "minorgridcolor": "white",
             "startlinecolor": "#2a3f5f"
            },
            "baxis": {
             "endlinecolor": "#2a3f5f",
             "gridcolor": "white",
             "linecolor": "white",
             "minorgridcolor": "white",
             "startlinecolor": "#2a3f5f"
            },
            "type": "carpet"
           }
          ],
          "choropleth": [
           {
            "colorbar": {
             "outlinewidth": 0,
             "ticks": ""
            },
            "type": "choropleth"
           }
          ],
          "contour": [
           {
            "colorbar": {
             "outlinewidth": 0,
             "ticks": ""
            },
            "colorscale": [
             [
              0,
              "#0d0887"
             ],
             [
              0.1111111111111111,
              "#46039f"
             ],
             [
              0.2222222222222222,
              "#7201a8"
             ],
             [
              0.3333333333333333,
              "#9c179e"
             ],
             [
              0.4444444444444444,
              "#bd3786"
             ],
             [
              0.5555555555555556,
              "#d8576b"
             ],
             [
              0.6666666666666666,
              "#ed7953"
             ],
             [
              0.7777777777777778,
              "#fb9f3a"
             ],
             [
              0.8888888888888888,
              "#fdca26"
             ],
             [
              1,
              "#f0f921"
             ]
            ],
            "type": "contour"
           }
          ],
          "contourcarpet": [
           {
            "colorbar": {
             "outlinewidth": 0,
             "ticks": ""
            },
            "type": "contourcarpet"
           }
          ],
          "heatmap": [
           {
            "colorbar": {
             "outlinewidth": 0,
             "ticks": ""
            },
            "colorscale": [
             [
              0,
              "#0d0887"
             ],
             [
              0.1111111111111111,
              "#46039f"
             ],
             [
              0.2222222222222222,
              "#7201a8"
             ],
             [
              0.3333333333333333,
              "#9c179e"
             ],
             [
              0.4444444444444444,
              "#bd3786"
             ],
             [
              0.5555555555555556,
              "#d8576b"
             ],
             [
              0.6666666666666666,
              "#ed7953"
             ],
             [
              0.7777777777777778,
              "#fb9f3a"
             ],
             [
              0.8888888888888888,
              "#fdca26"
             ],
             [
              1,
              "#f0f921"
             ]
            ],
            "type": "heatmap"
           }
          ],
          "heatmapgl": [
           {
            "colorbar": {
             "outlinewidth": 0,
             "ticks": ""
            },
            "colorscale": [
             [
              0,
              "#0d0887"
             ],
             [
              0.1111111111111111,
              "#46039f"
             ],
             [
              0.2222222222222222,
              "#7201a8"
             ],
             [
              0.3333333333333333,
              "#9c179e"
             ],
             [
              0.4444444444444444,
              "#bd3786"
             ],
             [
              0.5555555555555556,
              "#d8576b"
             ],
             [
              0.6666666666666666,
              "#ed7953"
             ],
             [
              0.7777777777777778,
              "#fb9f3a"
             ],
             [
              0.8888888888888888,
              "#fdca26"
             ],
             [
              1,
              "#f0f921"
             ]
            ],
            "type": "heatmapgl"
           }
          ],
          "histogram": [
           {
            "marker": {
             "pattern": {
              "fillmode": "overlay",
              "size": 10,
              "solidity": 0.2
             }
            },
            "type": "histogram"
           }
          ],
          "histogram2d": [
           {
            "colorbar": {
             "outlinewidth": 0,
             "ticks": ""
            },
            "colorscale": [
             [
              0,
              "#0d0887"
             ],
             [
              0.1111111111111111,
              "#46039f"
             ],
             [
              0.2222222222222222,
              "#7201a8"
             ],
             [
              0.3333333333333333,
              "#9c179e"
             ],
             [
              0.4444444444444444,
              "#bd3786"
             ],
             [
              0.5555555555555556,
              "#d8576b"
             ],
             [
              0.6666666666666666,
              "#ed7953"
             ],
             [
              0.7777777777777778,
              "#fb9f3a"
             ],
             [
              0.8888888888888888,
              "#fdca26"
             ],
             [
              1,
              "#f0f921"
             ]
            ],
            "type": "histogram2d"
           }
          ],
          "histogram2dcontour": [
           {
            "colorbar": {
             "outlinewidth": 0,
             "ticks": ""
            },
            "colorscale": [
             [
              0,
              "#0d0887"
             ],
             [
              0.1111111111111111,
              "#46039f"
             ],
             [
              0.2222222222222222,
              "#7201a8"
             ],
             [
              0.3333333333333333,
              "#9c179e"
             ],
             [
              0.4444444444444444,
              "#bd3786"
             ],
             [
              0.5555555555555556,
              "#d8576b"
             ],
             [
              0.6666666666666666,
              "#ed7953"
             ],
             [
              0.7777777777777778,
              "#fb9f3a"
             ],
             [
              0.8888888888888888,
              "#fdca26"
             ],
             [
              1,
              "#f0f921"
             ]
            ],
            "type": "histogram2dcontour"
           }
          ],
          "mesh3d": [
           {
            "colorbar": {
             "outlinewidth": 0,
             "ticks": ""
            },
            "type": "mesh3d"
           }
          ],
          "parcoords": [
           {
            "line": {
             "colorbar": {
              "outlinewidth": 0,
              "ticks": ""
             }
            },
            "type": "parcoords"
           }
          ],
          "pie": [
           {
            "automargin": true,
            "type": "pie"
           }
          ],
          "scatter": [
           {
            "fillpattern": {
             "fillmode": "overlay",
             "size": 10,
             "solidity": 0.2
            },
            "type": "scatter"
           }
          ],
          "scatter3d": [
           {
            "line": {
             "colorbar": {
              "outlinewidth": 0,
              "ticks": ""
             }
            },
            "marker": {
             "colorbar": {
              "outlinewidth": 0,
              "ticks": ""
             }
            },
            "type": "scatter3d"
           }
          ],
          "scattercarpet": [
           {
            "marker": {
             "colorbar": {
              "outlinewidth": 0,
              "ticks": ""
             }
            },
            "type": "scattercarpet"
           }
          ],
          "scattergeo": [
           {
            "marker": {
             "colorbar": {
              "outlinewidth": 0,
              "ticks": ""
             }
            },
            "type": "scattergeo"
           }
          ],
          "scattergl": [
           {
            "marker": {
             "colorbar": {
              "outlinewidth": 0,
              "ticks": ""
             }
            },
            "type": "scattergl"
           }
          ],
          "scattermapbox": [
           {
            "marker": {
             "colorbar": {
              "outlinewidth": 0,
              "ticks": ""
             }
            },
            "type": "scattermapbox"
           }
          ],
          "scatterpolar": [
           {
            "marker": {
             "colorbar": {
              "outlinewidth": 0,
              "ticks": ""
             }
            },
            "type": "scatterpolar"
           }
          ],
          "scatterpolargl": [
           {
            "marker": {
             "colorbar": {
              "outlinewidth": 0,
              "ticks": ""
             }
            },
            "type": "scatterpolargl"
           }
          ],
          "scatterternary": [
           {
            "marker": {
             "colorbar": {
              "outlinewidth": 0,
              "ticks": ""
             }
            },
            "type": "scatterternary"
           }
          ],
          "surface": [
           {
            "colorbar": {
             "outlinewidth": 0,
             "ticks": ""
            },
            "colorscale": [
             [
              0,
              "#0d0887"
             ],
             [
              0.1111111111111111,
              "#46039f"
             ],
             [
              0.2222222222222222,
              "#7201a8"
             ],
             [
              0.3333333333333333,
              "#9c179e"
             ],
             [
              0.4444444444444444,
              "#bd3786"
             ],
             [
              0.5555555555555556,
              "#d8576b"
             ],
             [
              0.6666666666666666,
              "#ed7953"
             ],
             [
              0.7777777777777778,
              "#fb9f3a"
             ],
             [
              0.8888888888888888,
              "#fdca26"
             ],
             [
              1,
              "#f0f921"
             ]
            ],
            "type": "surface"
           }
          ],
          "table": [
           {
            "cells": {
             "fill": {
              "color": "#EBF0F8"
             },
             "line": {
              "color": "white"
             }
            },
            "header": {
             "fill": {
              "color": "#C8D4E3"
             },
             "line": {
              "color": "white"
             }
            },
            "type": "table"
           }
          ]
         },
         "layout": {
          "annotationdefaults": {
           "arrowcolor": "#2a3f5f",
           "arrowhead": 0,
           "arrowwidth": 1
          },
          "autotypenumbers": "strict",
          "coloraxis": {
           "colorbar": {
            "outlinewidth": 0,
            "ticks": ""
           }
          },
          "colorscale": {
           "diverging": [
            [
             0,
             "#8e0152"
            ],
            [
             0.1,
             "#c51b7d"
            ],
            [
             0.2,
             "#de77ae"
            ],
            [
             0.3,
             "#f1b6da"
            ],
            [
             0.4,
             "#fde0ef"
            ],
            [
             0.5,
             "#f7f7f7"
            ],
            [
             0.6,
             "#e6f5d0"
            ],
            [
             0.7,
             "#b8e186"
            ],
            [
             0.8,
             "#7fbc41"
            ],
            [
             0.9,
             "#4d9221"
            ],
            [
             1,
             "#276419"
            ]
           ],
           "sequential": [
            [
             0,
             "#0d0887"
            ],
            [
             0.1111111111111111,
             "#46039f"
            ],
            [
             0.2222222222222222,
             "#7201a8"
            ],
            [
             0.3333333333333333,
             "#9c179e"
            ],
            [
             0.4444444444444444,
             "#bd3786"
            ],
            [
             0.5555555555555556,
             "#d8576b"
            ],
            [
             0.6666666666666666,
             "#ed7953"
            ],
            [
             0.7777777777777778,
             "#fb9f3a"
            ],
            [
             0.8888888888888888,
             "#fdca26"
            ],
            [
             1,
             "#f0f921"
            ]
           ],
           "sequentialminus": [
            [
             0,
             "#0d0887"
            ],
            [
             0.1111111111111111,
             "#46039f"
            ],
            [
             0.2222222222222222,
             "#7201a8"
            ],
            [
             0.3333333333333333,
             "#9c179e"
            ],
            [
             0.4444444444444444,
             "#bd3786"
            ],
            [
             0.5555555555555556,
             "#d8576b"
            ],
            [
             0.6666666666666666,
             "#ed7953"
            ],
            [
             0.7777777777777778,
             "#fb9f3a"
            ],
            [
             0.8888888888888888,
             "#fdca26"
            ],
            [
             1,
             "#f0f921"
            ]
           ]
          },
          "colorway": [
           "#636efa",
           "#EF553B",
           "#00cc96",
           "#ab63fa",
           "#FFA15A",
           "#19d3f3",
           "#FF6692",
           "#B6E880",
           "#FF97FF",
           "#FECB52"
          ],
          "font": {
           "color": "#2a3f5f"
          },
          "geo": {
           "bgcolor": "white",
           "lakecolor": "white",
           "landcolor": "#E5ECF6",
           "showlakes": true,
           "showland": true,
           "subunitcolor": "white"
          },
          "hoverlabel": {
           "align": "left"
          },
          "hovermode": "closest",
          "mapbox": {
           "style": "light"
          },
          "paper_bgcolor": "white",
          "plot_bgcolor": "#E5ECF6",
          "polar": {
           "angularaxis": {
            "gridcolor": "white",
            "linecolor": "white",
            "ticks": ""
           },
           "bgcolor": "#E5ECF6",
           "radialaxis": {
            "gridcolor": "white",
            "linecolor": "white",
            "ticks": ""
           }
          },
          "scene": {
           "xaxis": {
            "backgroundcolor": "#E5ECF6",
            "gridcolor": "white",
            "gridwidth": 2,
            "linecolor": "white",
            "showbackground": true,
            "ticks": "",
            "zerolinecolor": "white"
           },
           "yaxis": {
            "backgroundcolor": "#E5ECF6",
            "gridcolor": "white",
            "gridwidth": 2,
            "linecolor": "white",
            "showbackground": true,
            "ticks": "",
            "zerolinecolor": "white"
           },
           "zaxis": {
            "backgroundcolor": "#E5ECF6",
            "gridcolor": "white",
            "gridwidth": 2,
            "linecolor": "white",
            "showbackground": true,
            "ticks": "",
            "zerolinecolor": "white"
           }
          },
          "shapedefaults": {
           "line": {
            "color": "#2a3f5f"
           }
          },
          "ternary": {
           "aaxis": {
            "gridcolor": "white",
            "linecolor": "white",
            "ticks": ""
           },
           "baxis": {
            "gridcolor": "white",
            "linecolor": "white",
            "ticks": ""
           },
           "bgcolor": "#E5ECF6",
           "caxis": {
            "gridcolor": "white",
            "linecolor": "white",
            "ticks": ""
           }
          },
          "title": {
           "x": 0.05
          },
          "xaxis": {
           "automargin": true,
           "gridcolor": "white",
           "linecolor": "white",
           "ticks": "",
           "title": {
            "standoff": 15
           },
           "zerolinecolor": "white",
           "zerolinewidth": 2
          },
          "yaxis": {
           "automargin": true,
           "gridcolor": "white",
           "linecolor": "white",
           "ticks": "",
           "title": {
            "standoff": 15
           },
           "zerolinecolor": "white",
           "zerolinewidth": 2
          }
         }
        },
        "title": {
         "text": "Token-Level Activations for Feature 1015"
        },
        "width": 1200,
        "xaxis": {
         "anchor": "y",
         "domain": [
          0,
          1
         ],
         "tickangle": -45,
         "title": {
          "text": "Token"
         }
        },
        "yaxis": {
         "anchor": "x",
         "domain": [
          0,
          1
         ],
         "title": {
          "text": "Activation"
         }
        }
       }
      }
     },
     "metadata": {},
     "output_type": "display_data"
    }
   ],
   "source": [
    "sentence = \"\"\"\n",
    "The director of this movie is terrible.\n",
    "\"\"\"\n",
    "\n",
    "act_dict = token_level_activations(sentence=sentence, autoencoder=autoencoder, model=model, feature_idx=1015, layer_idx=layer_idx, tokenizer=tokenizer)"
   ]
  },
  {
   "cell_type": "code",
   "execution_count": 11,
   "metadata": {},
   "outputs": [
    {
     "data": {
      "text/plain": [
       "[{'Token': '[CLS]', 'Activation': 0.359},\n",
       " {'Token': 'the', 'Activation': 1.735},\n",
       " {'Token': 'director', 'Activation': 2.689},\n",
       " {'Token': 'of', 'Activation': 1.639},\n",
       " {'Token': 'this', 'Activation': 1.895},\n",
       " {'Token': 'movie', 'Activation': 2.495},\n",
       " {'Token': 'is', 'Activation': 1.918},\n",
       " {'Token': 'terrible', 'Activation': 0.854},\n",
       " {'Token': '.', 'Activation': 0.487},\n",
       " {'Token': '[SEP]', 'Activation': 0.184}]"
      ]
     },
     "execution_count": 11,
     "metadata": {},
     "output_type": "execute_result"
    }
   ],
   "source": [
    "act_dict"
   ]
  },
  {
   "cell_type": "code",
   "execution_count": 12,
   "metadata": {},
   "outputs": [],
   "source": [
    "# for ds_idx, dataset in enumerate(datasets):\n",
    "#     for layer_idx, layer in enumerate(layers):\n",
    "        \n",
    "#         dataset_name = dataset\n",
    "\n",
    "#         model, tokenizer = load_model_tok(\n",
    "#             dataset_name=dataset_name,\n",
    "#             model_name=model_name,\n",
    "#             num_labels=2,\n",
    "#             ft=True,\n",
    "#         )\n",
    "\n",
    "#         train_loader, val_loader = load_and_preprocess_data(dataset_name=dataset_name, tokenizer=tokenizer)\n",
    "\n",
    "#         activations, labels = extract_activations(model, train_loader, dataset_name, model_name, layer_idx)\n",
    "\n",
    "#         train_sae(activations=activations, dataset_name=dataset_name, model_name=model_name, layer_idx=layer_idx, ft=True)\n",
    "\n",
    "#     del autoencoder, activations, labels\n",
    "\n",
    "#     torch.cuda.empty_cache()\n",
    "\n",
    "#     gc.collect()"
   ]
  },
  {
   "cell_type": "code",
   "execution_count": null,
   "metadata": {},
   "outputs": [],
   "source": []
  }
 ],
 "metadata": {
  "kernelspec": {
   "display_name": "base_env",
   "language": "python",
   "name": "python3"
  },
  "language_info": {
   "codemirror_mode": {
    "name": "ipython",
    "version": 3
   },
   "file_extension": ".py",
   "mimetype": "text/x-python",
   "name": "python",
   "nbconvert_exporter": "python",
   "pygments_lexer": "ipython3",
   "version": "3.11.11"
  }
 },
 "nbformat": 4,
 "nbformat_minor": 2
}
